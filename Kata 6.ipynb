{
 "cells": [
  {
   "cell_type": "markdown",
   "metadata": {},
   "source": [
    "# Ejercicio 1"
   ]
  },
  {
   "cell_type": "code",
   "execution_count": 13,
   "metadata": {},
   "outputs": [
    {
     "name": "stdout",
     "output_type": "stream",
     "text": [
      "La cantidad de planetas es: 9\n",
      "El último planeta del sistema solar es Plutón\n"
     ]
    }
   ],
   "source": [
    "planets=[\"Mercurio\",\"Venus\",\"Tierra\", \"Marte\", \"Jupiter\",\"Saturno\", \"Urano\", \"Neptuno\"]\n",
    "planets.append(\"Plutón\")\n",
    "numerodeplanetas= len(planets)\n",
    "print(\"La cantidad de planetas es:\", numerodeplanetas)\n",
    "print(\"El último planeta del sistema solar es\", planets[8])"
   ]
  },
  {
   "cell_type": "markdown",
   "metadata": {},
   "source": [
    "# Ejercicio 2"
   ]
  },
  {
   "cell_type": "code",
   "execution_count": 14,
   "metadata": {},
   "outputs": [
    {
     "name": "stdout",
     "output_type": "stream",
     "text": [
      "Ingresa el nombre de un planeta\n",
      "Los planetas mas cercanos son: ['Mercurio', 'Venus', 'Tierra']\n",
      "Los planetas más alejasdos son: ['Jupiter', 'Saturno', 'Urano', 'Neptuno']\n"
     ]
    }
   ],
   "source": [
    "planets=[\"Mercurio\",\"Venus\",\"Tierra\", \"Marte\", \"Jupiter\",\"Saturno\", \"Urano\", \"Neptuno\"]\n",
    "print(\"Ingresa el nombre de un planeta\")\n",
    "nombreplaneta= input(\"La primer letra en mayuscula\")\n",
    "planetaingresado= planets.index(nombreplaneta)\n",
    "antes= planets[0:planetaingresado]\n",
    "print(\"Los planetas mas cercanos son:\", antes)\n",
    "despues= planets[planetaingresado+1:]\n",
    "print(\"Los planetas más alejasdos son:\", despues)\n"
   ]
  }
 ],
 "metadata": {
  "interpreter": {
   "hash": "9384640dd4414537e6c07bba858bf953e7b52542b4ff001e7e838b1708647f2f"
  },
  "kernelspec": {
   "display_name": "Python 3.9.10 64-bit (windows store)",
   "language": "python",
   "name": "python3"
  },
  "language_info": {
   "codemirror_mode": {
    "name": "ipython",
    "version": 3
   },
   "file_extension": ".py",
   "mimetype": "text/x-python",
   "name": "python",
   "nbconvert_exporter": "python",
   "pygments_lexer": "ipython3",
   "version": "3.9.10"
  },
  "orig_nbformat": 4
 },
 "nbformat": 4,
 "nbformat_minor": 2
}
