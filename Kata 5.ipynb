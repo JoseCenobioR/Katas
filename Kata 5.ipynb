{
 "cells": [
  {
   "cell_type": "markdown",
   "metadata": {},
   "source": [
    "# Ejercicio 1"
   ]
  },
  {
   "cell_type": "code",
   "execution_count": 5,
   "metadata": {},
   "outputs": [
    {
     "name": "stdout",
     "output_type": "stream",
     "text": [
      "La distancia en Km es: 628949330\n",
      "La distancia en millas es: 390577534\n"
     ]
    }
   ],
   "source": [
    "\n",
    "distancia1= 149597870\n",
    "distancia2= 778547200\n",
    "distancia3= abs(distancia1-distancia2)\n",
    "distancia4=0.621*distancia3\n",
    "print(\"La distancia en Km es: \"+str(distancia3))\n",
    "print(\"La distancia en millas es: \"+ str(round(distancia4)))\n",
    "\n"
   ]
  },
  {
   "cell_type": "markdown",
   "metadata": {},
   "source": [
    "# Ejercicio 2"
   ]
  },
  {
   "cell_type": "code",
   "execution_count": 7,
   "metadata": {},
   "outputs": [
    {
     "name": "stdout",
     "output_type": "stream",
     "text": [
      "Introduce la distancia al sol del primer planeta\n",
      "Introduce la distancia al sol del segundo planeta\n",
      "La distancia entre ambos planetas en Km es: 200\n",
      "La distancia entre ambos planetas en millas es: 124.2\n"
     ]
    }
   ],
   "source": [
    "print(\"Introduce la distancia al sol del primer planeta\")\n",
    "distancia1= int(input(\"La distancia es \"))\n",
    "print(\"Introduce la distancia al sol del segundo planeta\")\n",
    "distancia2= int(input(\"La distancia es \"))\n",
    "distancia3=abs(distancia1-distancia2)\n",
    "distancia4=0.621*distancia3\n",
    "print(\"La distancia entre ambos planetas en Km es: \"+str(distancia3))\n",
    "print(\"La distancia entre ambos planetas en millas es: \"+str(distancia4))\n"
   ]
  }
 ],
 "metadata": {
  "interpreter": {
   "hash": "9384640dd4414537e6c07bba858bf953e7b52542b4ff001e7e838b1708647f2f"
  },
  "kernelspec": {
   "display_name": "Python 3.9.10 64-bit (windows store)",
   "language": "python",
   "name": "python3"
  },
  "language_info": {
   "codemirror_mode": {
    "name": "ipython",
    "version": 3
   },
   "file_extension": ".py",
   "mimetype": "text/x-python",
   "name": "python",
   "nbconvert_exporter": "python",
   "pygments_lexer": "ipython3",
   "version": "3.9.10"
  },
  "orig_nbformat": 4
 },
 "nbformat": 4,
 "nbformat_minor": 2
}
