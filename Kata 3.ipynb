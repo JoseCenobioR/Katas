{
 "cells": [
  {
   "cell_type": "markdown",
   "metadata": {},
   "source": [
    "# Ejercicio 1"
   ]
  },
  {
   "cell_type": "code",
   "execution_count": 27,
   "metadata": {},
   "outputs": [
    {
     "name": "stdout",
     "output_type": "stream",
     "text": [
      "¿Cual es la velocidad del asteriode?\n",
      "No te preocupes, un asteroide se acerca con velocidad de: 20 Km/h\n"
     ]
    }
   ],
   "source": [
    "print(\"¿Cual es la velocidad del asteriode?\")\n",
    "velocidad= int(input())\n",
    "if velocidad>25:\n",
    "    print(\"Alerta, un asteroide se acerca a la tierra con velocidad de: \"+ str(velocidad) +\" Km/h\")\n",
    "else:\n",
    "    print(\"No te preocupes, un asteroide se acerca con velocidad de: \"+ str(velocidad) + \" Km/h\")\n",
    "\n"
   ]
  },
  {
   "cell_type": "markdown",
   "metadata": {},
   "source": [
    "# Ejercicio 2"
   ]
  },
  {
   "cell_type": "code",
   "execution_count": 30,
   "metadata": {},
   "outputs": [
    {
     "name": "stdout",
     "output_type": "stream",
     "text": [
      "¿Cual es la velocidad del asteriode?\n",
      "No podrás ver nada\n"
     ]
    }
   ],
   "source": [
    "print(\"¿Cual es la velocidad del asteriode?\")\n",
    "velocidad= int(input())\n",
    "if velocidad>20:\n",
    "    print(\"Mira arriba, podras ver un asteroide\")\n",
    "elif velocidad==20:\n",
    "    print(\"posiblemente veas un asteoride\")\n",
    "else:\n",
    "    print(\"No podrás ver nada\")"
   ]
  },
  {
   "cell_type": "markdown",
   "metadata": {},
   "source": [
    "# Ejercicio 3"
   ]
  },
  {
   "cell_type": "code",
   "execution_count": 36,
   "metadata": {},
   "outputs": [
    {
     "name": "stdout",
     "output_type": "stream",
     "text": [
      "¿Cual es la dimensión del asteroide?\n",
      "¿Cuál es la velocidad del asteroide?\n",
      "Podrás verlo en el cielo\n"
     ]
    }
   ],
   "source": [
    "print(\"¿Cual es la dimensión del asteroide?\")\n",
    "dia= int(input())\n",
    "print(\"¿Cuál es la velocidad del asteroide?\")\n",
    "vel= int(input())\n",
    "if dia>=25 or vel>25:\n",
    "    print(\"Un asteriode peligroso se acerca a la tierra\")\n",
    "elif vel>=20:\n",
    "    print(\"Podrás verlo en el cielo\")\n",
    "else:\n",
    "    print(\"Nada de que preocuparse\")"
   ]
  }
 ],
 "metadata": {
  "interpreter": {
   "hash": "9384640dd4414537e6c07bba858bf953e7b52542b4ff001e7e838b1708647f2f"
  },
  "kernelspec": {
   "display_name": "Python 3.9.10 64-bit (windows store)",
   "language": "python",
   "name": "python3"
  },
  "language_info": {
   "codemirror_mode": {
    "name": "ipython",
    "version": 3
   },
   "file_extension": ".py",
   "mimetype": "text/x-python",
   "name": "python",
   "nbconvert_exporter": "python",
   "pygments_lexer": "ipython3",
   "version": "3.9.10"
  },
  "orig_nbformat": 4
 },
 "nbformat": 4,
 "nbformat_minor": 2
}
